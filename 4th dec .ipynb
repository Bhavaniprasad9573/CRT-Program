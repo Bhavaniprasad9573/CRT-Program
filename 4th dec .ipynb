{
 "cells": [
  {
   "cell_type": "markdown",
   "metadata": {},
   "source": [
    "## Functional Programming\n",
    "1. Simple\n",
    "2. Easy to understand\n",
    "3. Better reuseabitity\n",
    "4. Length of program will be divided into subprograms"
   ]
  },
  {
   "cell_type": "code",
   "execution_count": null,
   "metadata": {},
   "outputs": [],
   "source": [
    "def nameofFunction(<parameters>):\n",
    "    statements\n",
    "    return"
   ]
  },
  {
   "cell_type": "markdown",
   "metadata": {},
   "source": [
    "# read a number\n",
    "# print the even digit sum from the number\n",
    "# Input : 1234\n",
    "# Output : 6(2+4)\n"
   ]
  },
  {
   "cell_type": "code",
   "execution_count": 5,
   "metadata": {},
   "outputs": [
    {
     "data": {
      "text/plain": [
       "6"
      ]
     },
     "execution_count": 5,
     "metadata": {},
     "output_type": "execute_result"
    }
   ],
   "source": [
    "def evendigitsum(n):\n",
    "    s=0\n",
    "    while n != 0:\n",
    "        r = n % 10\n",
    "        if r % 2 == 0:\n",
    "            s = s + r\n",
    "        n = n // 10\n",
    "    return s\n",
    "evendigitsum(1234)"
   ]
  },
  {
   "cell_type": "code",
   "execution_count": 8,
   "metadata": {},
   "outputs": [
    {
     "data": {
      "text/plain": [
       "4"
      ]
     },
     "execution_count": 8,
     "metadata": {},
     "output_type": "execute_result"
    }
   ],
   "source": [
    "def odddigitsum(n):\n",
    "    s=0\n",
    "    while n != 0:\n",
    "        r = n % 10\n",
    "        if r % 2 != 0:\n",
    "            s = s + r\n",
    "        n = n // 10\n",
    "    return s\n",
    "odddigitsum(1234)"
   ]
  },
  {
   "cell_type": "markdown",
   "metadata": {},
   "source": [
    "## Define return function"
   ]
  },
  {
   "cell_type": "code",
   "execution_count": 9,
   "metadata": {},
   "outputs": [
    {
     "name": "stdout",
     "output_type": "stream",
     "text": [
      "16\n",
      "None\n"
     ]
    }
   ],
   "source": [
    "def square(x):\n",
    "    print(x*x)\n",
    "print(square(4))"
   ]
  },
  {
   "cell_type": "code",
   "execution_count": 10,
   "metadata": {},
   "outputs": [
    {
     "data": {
      "text/plain": [
       "9"
      ]
     },
     "execution_count": 10,
     "metadata": {},
     "output_type": "execute_result"
    }
   ],
   "source": [
    "def square(x):\n",
    "    return x*x\n",
    "square(3)"
   ]
  },
  {
   "cell_type": "code",
   "execution_count": 11,
   "metadata": {},
   "outputs": [
    {
     "data": {
      "text/plain": [
       "27"
      ]
     },
     "execution_count": 11,
     "metadata": {},
     "output_type": "execute_result"
    }
   ],
   "source": [
    "def cube(x):\n",
    "    return x*x*x\n",
    "cube(3)"
   ]
  },
  {
   "cell_type": "code",
   "execution_count": 12,
   "metadata": {},
   "outputs": [
    {
     "name": "stdout",
     "output_type": "stream",
     "text": [
      "value of x= 4\n",
      "value of y= 2\n",
      "8\n"
     ]
    }
   ],
   "source": [
    "def multiply(x,y=0):\n",
    "    print(\"value of x=\",x)\n",
    "    print(\"value of y=\",y)\n",
    "    return(x*y)\n",
    "print(multiply(y=2,x=4))"
   ]
  },
  {
   "cell_type": "markdown",
   "metadata": {},
   "source": [
    "# Swapping values"
   ]
  },
  {
   "cell_type": "code",
   "execution_count": 24,
   "metadata": {},
   "outputs": [
    {
     "data": {
      "text/plain": [
       "(3, 2)"
      ]
     },
     "execution_count": 24,
     "metadata": {},
     "output_type": "execute_result"
    }
   ],
   "source": [
    "def swap(x,y):\n",
    "    temp = x\n",
    "    x=y\n",
    "    y = temp \n",
    "    return x,y\n",
    "swap(2,3)\n"
   ]
  },
  {
   "cell_type": "code",
   "execution_count": 26,
   "metadata": {},
   "outputs": [
    {
     "data": {
      "text/plain": [
       "9"
      ]
     },
     "execution_count": 26,
     "metadata": {},
     "output_type": "execute_result"
    }
   ],
   "source": [
    "# Input  : 19535\n",
    "# output : 9(large digit of the given no)\n",
    "def largedigit(n):\n",
    "    large = 0\n",
    "    while n!=0:\n",
    "        r=n%10\n",
    "        if large < r:\n",
    "            large = r\n",
    "        n=n//10\n",
    "    return large\n",
    "largedigit(19535)"
   ]
  },
  {
   "cell_type": "markdown",
   "metadata": {},
   "source": [
    "## For loop\n",
    "### syntax1:\n",
    "for i in range (start,stop,step):\n",
    "> statements\n",
    "#### syntax 2\n",
    "for i in Iterableobject:\n",
    "> statements"
   ]
  },
  {
   "cell_type": "code",
   "execution_count": 29,
   "metadata": {},
   "outputs": [
    {
     "name": "stdout",
     "output_type": "stream",
     "text": [
      "1 2 3 4 5 6 7 8 9 10 "
     ]
    }
   ],
   "source": [
    "# Function to print the numbers btw two limits\n",
    "def printseries(lb,ub):\n",
    "    for x in range(lb,ub+1):\n",
    "        print(x,end= ' ')\n",
    "    return\n",
    "printseries(1,10)"
   ]
  },
  {
   "cell_type": "markdown",
   "metadata": {},
   "source": [
    "## Collection types\n",
    "1. List\n",
    "2. Tuple\n",
    "3. Set\n",
    "4. Dictionary\n"
   ]
  },
  {
   "cell_type": "markdown",
   "metadata": {},
   "source": [
    "# List \n",
    "1. One of the data structures in python\n",
    "2. Data structures mean to store,sort and search options\n",
    "3. It's one common Data structure in python, the items of list separated by coma and enclosed in square brackets\n",
    "### Examples:\n",
    "   -List1 = [1,2,3,4,5]\n",
    "   -List2 = [\"Gitam\",1,2]"
   ]
  },
  {
   "cell_type": "code",
   "execution_count": 33,
   "metadata": {},
   "outputs": [
    {
     "name": "stdout",
     "output_type": "stream",
     "text": [
      "1\n"
     ]
    }
   ],
   "source": [
    "li = [1,8,16,17,18]\n",
    "print(li[0])"
   ]
  },
  {
   "cell_type": "code",
   "execution_count": 35,
   "metadata": {},
   "outputs": [
    {
     "name": "stdout",
     "output_type": "stream",
     "text": [
      "['gitam', 1234, 'hyd']\n",
      "['gitam', 456, 'hyd']\n"
     ]
    }
   ],
   "source": [
    "# update list\n",
    "li = ['gitam',1234,'hyd']\n",
    "print(li)\n",
    "li[1] = 456\n",
    "print(li)"
   ]
  },
  {
   "cell_type": "code",
   "execution_count": 36,
   "metadata": {},
   "outputs": [
    {
     "name": "stdout",
     "output_type": "stream",
     "text": [
      "['gitam', 1234, 'hyd']\n",
      "['gitam', 'hyd']\n"
     ]
    }
   ],
   "source": [
    "li = ['gitam',1234,'hyd']\n",
    "print(li)\n",
    "del li[1] \n",
    "print(li)"
   ]
  },
  {
   "cell_type": "code",
   "execution_count": null,
   "metadata": {},
   "outputs": [],
   "source": [
    "li = "
   ]
  }
 ],
 "metadata": {
  "kernelspec": {
   "display_name": "Python 3",
   "language": "python",
   "name": "python3"
  },
  "language_info": {
   "codemirror_mode": {
    "name": "ipython",
    "version": 3
   },
   "file_extension": ".py",
   "mimetype": "text/x-python",
   "name": "python",
   "nbconvert_exporter": "python",
   "pygments_lexer": "ipython3",
   "version": "3.7.3"
  }
 },
 "nbformat": 4,
 "nbformat_minor": 2
}
